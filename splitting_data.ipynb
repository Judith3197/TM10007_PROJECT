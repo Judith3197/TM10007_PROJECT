{
 "nbformat": 4,
 "nbformat_minor": 2,
 "metadata": {
  "language_info": {
   "name": "python",
   "codemirror_mode": {
    "name": "ipython",
    "version": 3
   },
   "version": "3.7.4-final"
  },
  "orig_nbformat": 2,
  "file_extension": ".py",
  "mimetype": "text/x-python",
  "name": "python",
  "npconvert_exporter": "python",
  "pygments_lexer": "ipython3",
  "version": 3,
  "kernelspec": {
   "name": "python3",
   "display_name": "Python 3"
  }
 },
 "cells": [
  {
   "cell_type": "markdown",
   "metadata": {},
   "source": [
    "This is a file for the splitting of data."
   ]
  },
  {
   "cell_type": "code",
   "execution_count": 36,
   "metadata": {
    "tags": [
     "outputPrepend",
     "outputPrepend"
    ]
   },
   "outputs": [
    {
     "output_type": "stream",
     "name": "stdout",
     "text": "The number of samples: 113\nThe number of features: 160\nIteration 1\nTraining dataset size 90\nTest dataset size 23\nTraining size in current fold = 23\nTraining size in current fold = 23\nTraining size in current fold = 22\nTraining size in current fold = 22\nIteration 2\nTraining dataset size 90\nTest dataset size 23\nTraining size in current fold = 23\nTraining size in current fold = 23\nTraining size in current fold = 22\nTraining size in current fold = 22\nIteration 3\nTraining dataset size 90\nTest dataset size 23\nTraining size in current fold = 23\nTraining size in current fold = 23\nTraining size in current fold = 22\nTraining size in current fold = 22\nIteration 4\nTraining dataset size 90\nTest dataset size 23\nTraining size in current fold = 23\nTraining size in current fold = 23\nTraining size in current fold = 22\nTraining size in current fold = 22\nIteration 5\nTraining dataset size 90\nTest dataset size 23\nTraining size in current fold = 23\nTraining size in current fold = 23\nTraining size in current fold = 22\nTraining size in current fold = 22\nIteration 6\nTraining dataset size 90\nTest dataset size 23\nTraining size in current fold = 23\nTraining size in current fold = 23\nTraining size in current fold = 22\nTraining size in current fold = 22\nIteration 7\nTraining dataset size 90\nTest dataset size 23\nTraining size in current fold = 23\nTraining size in current fold = 23\nTraining size in current fold = 22\nTraining size in current fold = 22\nIteration 8\nTraining dataset size 90\nTest dataset size 23\nTraining size in current fold = 23\nTraining size in current fold = 23\nTraining size in current fold = 22\nTraining size in current fold = 22\nIteration 9\nTraining dataset size 90\nTest dataset size 23\nTraining size in current fold = 23\nTraining size in current fold = 23\nTraining size in current fold = 22\nTraining size in current fold = 22\nIteration 10\nTraining dataset size 90\nTest dataset size 23\nTraining size in current fold = 23\nTraining size in current fold = 23\nTraining size in current fold = 22\nTraining size in current fold = 22\nIteration 11\nTraining dataset size 90\nTest dataset size 23\nTraining size in current fold = 23\nTraining size in current fold = 23\nTraining size in current fold = 22\nTraining size in current fold = 22\nIteration 12\nTraining dataset size 90\nTest dataset size 23\nTraining size in current fold = 23\nTraining size in current fold = 23\nTraining size in current fold = 22\nTraining size in current fold = 22\nIteration 13\nTraining dataset size 90\nTest dataset size 23\nTraining size in current fold = 23\nTraining size in current fold = 23\nTraining size in current fold = 22\nTraining size in current fold = 22\nIteration 14\nTraining dataset size 90\nTest dataset size 23\nTraining size in current fold = 23\nTraining size in current fold = 23\nTraining size in current fold = 22\nTraining size in current fold = 22\nIteration 15\nTraining dataset size 90\nTest dataset size 23\nTraining size in current fold = 23\nTraining size in current fold = 23\nTraining size in current fold = 22\nTraining size in current fold = 22\nIteration 16\nTraining dataset size 90\nTest dataset size 23\nTraining size in current fold = 23\nTraining size in current fold = 23\nTraining size in current fold = 22\nTraining size in current fold = 22\nIteration 17\nTraining dataset size 90\nTest dataset size 23\nTraining size in current fold = 23\nTraining size in current fold = 23\nTraining size in current fold = 22\nTraining size in current fold = 22\nIteration 18\nTraining dataset size 90\nTest dataset size 23\nTraining size in current fold = 23\nTraining size in current fold = 23\nTraining size in current fold = 22\nTraining size in current fold = 22\nIteration 19\nTraining dataset size 90\nTest dataset size 23\nTraining size in current fold = 23\nTraining size in current fold = 23\nTraining size in current fold = 22\nTraining size in current fold = 22\nIteration 20\nTraining dataset size 90\nTest dataset size 23\nTraining size in current fold = 23\nTraining size in current fold = 23\nTraining size in current fold = 22\nTraining size in current fold = 22\n"
    }
   ],
   "source": [
    "from sklearn import model_selection\n",
    "import numpy as np\n",
    "import pandas as pd\n",
    "\n",
    "\n",
    "from hn.load_data import load_data\n",
    "data = load_data()\n",
    "print(f'The number of samples: {len(data.index)}')\n",
    "print(f'The number of features: {len(data.columns)}')\n",
    "Y = data['label']\n",
    "\n",
    "sss = model_selection.StratifiedShuffleSplit(n_splits=20, test_size=0.2, random_state=0)\n",
    "cv_4fold = model_selection.StratifiedKFold(n_splits=4)\n",
    "\n",
    "count = 0 \n",
    "for train_index, test_index in sss.split(data, Y):\n",
    "    train_scores = []\n",
    "    test_scores = []\n",
    "    count += 1\n",
    "    print(f'Iteration {count}')\n",
    "    data_array = pd.DataFrame.from_dict(data) #Needed to be able to index this later \n",
    "    split_X_train = data_array.iloc[train_index]\n",
    "    split_y_train = Y[train_index]\n",
    "    split_X_test = data_array.iloc[test_index]\n",
    "    split_y_test = Y[test_index]\n",
    "    print(f'Training dataset size {len(split_X_train)}')\n",
    "    print(f'Test dataset size {len(split_X_test)}')\n",
    "\n",
    "    # Loop over the folds\n",
    "    for training_index, validation_index in cv_4fold.split(split_X_train, split_y_train):\n",
    "        X_validation = split_X_train.iloc[validation_index]\n",
    "        y_validation = split_y_train[validation_index]\n",
    "        X_train = split_X_train.iloc[training_index]\n",
    "        y_train = split_y_train[training_index]\n",
    "        print(f'Validation size in current fold = {len(X_validation)}')\n"
   ]
  },
  {
   "cell_type": "code",
   "execution_count": null,
   "metadata": {},
   "outputs": [],
   "source": []
  }
 ]
}