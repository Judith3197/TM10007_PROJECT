{
 "nbformat": 4,
 "nbformat_minor": 2,
 "metadata": {
  "language_info": {
   "name": "python",
   "codemirror_mode": {
    "name": "ipython",
    "version": 3
   },
   "version": "3.7.6-final"
  },
  "orig_nbformat": 2,
  "file_extension": ".py",
  "mimetype": "text/x-python",
  "name": "python",
  "npconvert_exporter": "python",
  "pygments_lexer": "ipython3",
  "version": 3,
  "kernelspec": {
   "name": "python3",
   "display_name": "Python 3"
  }
 },
 "cells": [
  {
   "cell_type": "markdown",
   "metadata": {},
   "source": [
    "This is a file for the splitting of data."
   ]
  },
  {
   "cell_type": "code",
   "execution_count": 11,
   "metadata": {
    "tags": [
     "outputPrepend",
     "outputPrepend",
     "outputPrepend",
     "outputPrepend",
     "outputPrepend"
    ]
   },
   "outputs": [
    {
     "output_type": "stream",
     "name": "stdout",
     "text": "The number of samples: 113\nThe number of features: 160\nIteration 1\nTraining dataset size 90\nTest dataset size 23\nValidation size in current fold = 23\nValidation size in current fold = 23\nValidation size in current fold = 22\nValidation size in current fold = 22\nIteration 2\nTraining dataset size 90\nTest dataset size 23\nValidation size in current fold = 23\nValidation size in current fold = 23\nValidation size in current fold = 22\nValidation size in current fold = 22\nIteration 3\nTraining dataset size 90\nTest dataset size 23\nValidation size in current fold = 23\nValidation size in current fold = 23\nValidation size in current fold = 22\nValidation size in current fold = 22\nIteration 4\nTraining dataset size 90\nTest dataset size 23\nValidation size in current fold = 23\nValidation size in current fold = 23\nValidation size in current fold = 22\nValidation size in current fold = 22\nIteration 5\nTraining dataset size 90\nTest dataset size 23\nValidation size in current fold = 23\nValidation size in current fold = 23\nValidation size in current fold = 22\nValidation size in current fold = 22\nIteration 6\nTraining dataset size 90\nTest dataset size 23\nValidation size in current fold = 23\nValidation size in current fold = 23\nValidation size in current fold = 22\nValidation size in current fold = 22\nIteration 7\nTraining dataset size 90\nTest dataset size 23\nValidation size in current fold = 23\nValidation size in current fold = 23\nValidation size in current fold = 22\nValidation size in current fold = 22\nIteration 8\nTraining dataset size 90\nTest dataset size 23\nValidation size in current fold = 23\nValidation size in current fold = 23\nValidation size in current fold = 22\nValidation size in current fold = 22\nIteration 9\nTraining dataset size 90\nTest dataset size 23\nValidation size in current fold = 23\nValidation size in current fold = 23\nValidation size in current fold = 22\nValidation size in current fold = 22\nIteration 10\nTraining dataset size 90\nTest dataset size 23\nValidation size in current fold = 23\nValidation size in current fold = 23\nValidation size in current fold = 22\nValidation size in current fold = 22\nIteration 11\nTraining dataset size 90\nTest dataset size 23\nValidation size in current fold = 23\nValidation size in current fold = 23\nValidation size in current fold = 22\nValidation size in current fold = 22\nIteration 12\nTraining dataset size 90\nTest dataset size 23\nValidation size in current fold = 23\nValidation size in current fold = 23\nValidation size in current fold = 22\nValidation size in current fold = 22\nIteration 13\nTraining dataset size 90\nTest dataset size 23\nValidation size in current fold = 23\nValidation size in current fold = 23\nValidation size in current fold = 22\nValidation size in current fold = 22\nIteration 14\nTraining dataset size 90\nTest dataset size 23\nValidation size in current fold = 23\nValidation size in current fold = 23\nValidation size in current fold = 22\nValidation size in current fold = 22\nIteration 15\nTraining dataset size 90\nTest dataset size 23\nValidation size in current fold = 23\nValidation size in current fold = 23\nValidation size in current fold = 22\nValidation size in current fold = 22\nIteration 16\nTraining dataset size 90\nTest dataset size 23\nValidation size in current fold = 23\nValidation size in current fold = 23\nValidation size in current fold = 22\nValidation size in current fold = 22\nIteration 17\nTraining dataset size 90\nTest dataset size 23\nValidation size in current fold = 23\nValidation size in current fold = 23\nValidation size in current fold = 22\nValidation size in current fold = 22\nIteration 18\nTraining dataset size 90\nTest dataset size 23\nValidation size in current fold = 23\nValidation size in current fold = 23\nValidation size in current fold = 22\nValidation size in current fold = 22\nIteration 19\nTraining dataset size 90\nTest dataset size 23\nValidation size in current fold = 23\nValidation size in current fold = 23\nValidation size in current fold = 22\nValidation size in current fold = 22\nIteration 20\nTraining dataset size 90\nTest dataset size 23\nValidation size in current fold = 23\nValidation size in current fold = 23\nValidation size in current fold = 22\nValidation size in current fold = 22\n                hf_energy  hf_entropy  hf_kurtosis    hf_max   hf_mean  \\\nID                                                                       \n0_HN1106_0    1066.789930    3.511552     9.272574  2.421435  2.235473   \n0_HN1900_0  127052.038714    1.998226    58.104728  2.440746  2.264647   \n0_HN1485_0    4105.742142    3.872609     8.006103  2.531859  2.111035   \n0_HN1344_0   31201.654922    2.397254    62.358259  2.395293  2.275678   \n0_HN1791_0    3164.221857    3.039733    79.020797  2.184723  2.081005   \n...                   ...         ...          ...       ...       ...   \n0_HN1067_0   27345.498154    1.422448    98.240275  2.460880  2.338631   \n0_HN1442_0   67646.552807    1.905627    52.205949  2.713303  2.139732   \n0_HN1092_0   55831.185816    3.116710    12.759338  2.994712  2.592004   \n0_HN1319_0  250618.177303    2.894499    14.799004  2.546382  2.408144   \n0_HN1215_0   69397.278350    3.086516    11.311837  2.682279  2.217335   \n\n            hf_median    hf_min  hf_peak  hf_quartile_range  hf_range  ...  \\\nID                                                                     ...   \n0_HN1106_0   2.335237  1.242344       26           0.104210  1.179091  ...   \n0_HN1900_0   2.281617  1.911186    20536           0.065217  0.529560  ...   \n0_HN1485_0   2.164779  1.291660      140           0.261007  1.240199  ...   \n0_HN1344_0   2.305631  1.890523     2259           0.058921  0.504771  ...   \n0_HN1791_0   2.094530  1.884491       90           0.066718  0.300232  ...   \n...               ...       ...      ...                ...       ...  ...   \n0_HN1067_0   2.359330  2.044265     4204           0.070304  0.416614  ...   \n0_HN1442_0   2.121792  1.909141    12834           0.068439  0.804162  ...   \n0_HN1092_0   2.748507 -0.195425     3396           0.154594  3.190138  ...   \n0_HN1319_0   2.413107  2.232795     5270           0.088850  0.313587  ...   \n0_HN1215_0   2.208362  1.862797     3118           0.086391  0.819482  ...   \n\n            tf_LBP_skew_R3_P12  tf_LBP_skew_R8_P24  tf_LBP_std_R15_P36  \\\nID                                                                       \n0_HN1106_0           -0.121139           -2.041082            0.963516   \n0_HN1900_0           -0.482944           -1.404466           12.198565   \n0_HN1485_0            0.026890           -1.369386            7.814841   \n0_HN1344_0           -0.286892           -1.396239           12.851597   \n0_HN1791_0           -0.261992           -2.174495            8.216781   \n...                        ...                 ...                 ...   \n0_HN1067_0           -0.290018           -1.250228           13.747724   \n0_HN1442_0           -0.510260           -1.628014           11.719457   \n0_HN1092_0           -0.100538           -1.131714           13.091124   \n0_HN1319_0           -0.362715           -1.602315           10.818643   \n0_HN1215_0           -0.472887           -1.848989           10.255212   \n\n            tf_LBP_std_R3_P12  tf_LBP_std_R8_P24  tf_NGTDM_Busyness  \\\nID                                                                    \n0_HN1106_0           5.874869           4.776193           0.000000   \n0_HN1900_0           5.089894           9.167091           0.623421   \n0_HN1485_0           4.834029           9.060561           0.104040   \n0_HN1344_0           5.032642           9.533911           0.000000   \n0_HN1791_0           5.656559           8.065513           0.000000   \n...                       ...                ...                ...   \n0_HN1067_0           4.964916           9.461837           0.664217   \n0_HN1442_0           5.025748           8.706040           1.436995   \n0_HN1092_0           4.652318           9.849940          25.338487   \n0_HN1319_0           4.833216           8.614560           0.000000   \n0_HN1215_0           5.109671           8.482829           0.000000   \n\n            tf_NGTDM_Coarseness  tf_NGTDM_Complexity  tf_NGTDM_Contrast  \\\nID                                                                        \n0_HN1106_0       1000000.000000             0.000000       0.000000e+00   \n0_HN1900_0             0.401096             0.000138       2.635751e-08   \n0_HN1485_0             2.406479             0.000820       1.377522e-06   \n0_HN1344_0       1000000.000000             0.000000       0.000000e+00   \n0_HN1791_0       1000000.000000             0.000000       0.000000e+00   \n...                         ...                  ...                ...   \n0_HN1067_0             0.376765             0.000898       6.939134e-07   \n0_HN1442_0             0.174135             0.000472       3.833676e-07   \n0_HN1092_0             0.010265             0.018149       4.657222e-04   \n0_HN1319_0       1000000.000000             0.000000       0.000000e+00   \n0_HN1215_0       1000000.000000             0.000000       0.000000e+00   \n\n            tf_NGTDM_Strength  \nID                             \n0_HN1106_0           0.000000  \n0_HN1900_0           0.290667  \n0_HN1485_0           1.413460  \n0_HN1344_0           0.000000  \n0_HN1791_0           0.000000  \n...                       ...  \n0_HN1067_0           0.329738  \n0_HN1442_0           0.131920  \n0_HN1092_0           0.010091  \n0_HN1319_0           0.000000  \n0_HN1215_0           0.000000  \n\n[68 rows x 159 columns]\n"
    }
   ],
   "source": [
    "# import packages\n",
    "from sklearn import model_selection\n",
    "import numpy as np\n",
    "import pandas as pd\n",
    "\n",
    "# load data\n",
    "from hn.load_data import load_data\n",
    "data = load_data()\n",
    "print(f'The number of samples: {len(data.index)}')\n",
    "print(f'The number of features: {len(data.columns)}')\n",
    "y = data['label']\n",
    "del data['label']\n",
    "\n",
    "sss = model_selection.StratifiedShuffleSplit(n_splits=20, test_size=0.2, random_state=None)\n",
    "cv_4fold = model_selection.StratifiedKFold(n_splits=4)\n",
    "\n",
    "count = 0 \n",
    "for train_index, test_index in sss.split(data, y):\n",
    "    train_scores = []\n",
    "    test_scores = []\n",
    "    count += 1\n",
    "    print(f'Iteration {count}')\n",
    "    data_array = pd.DataFrame.from_dict(data) #Needed to be able to index this later \n",
    "    split_X_train = data_array.iloc[train_index]\n",
    "    split_y_train = Y[train_index]\n",
    "    split_X_test = data_array.iloc[test_index]\n",
    "    split_y_test = y[test_index]\n",
    "    print(f'Training dataset size {len(split_X_train)}')\n",
    "    print(f'Test dataset size {len(split_X_test)}')\n",
    "\n",
    "    # Loop over the folds\n",
    "    for training_index, validation_index in cv_4fold.split(split_X_train, split_y_train):\n",
    "        X_validation = split_X_train.iloc[validation_index]\n",
    "        y_validation = split_y_train[validation_index]\n",
    "        X_train = split_X_train.iloc[training_index]\n",
    "        y_train = split_y_train[training_index]\n",
    "        print(f'Validation size in current fold = {len(X_validation)}')\n",
    "        \n",
    "\n",
    "print(X_train)"
   ]
  },
  {
   "cell_type": "code",
   "execution_count": null,
   "metadata": {},
   "outputs": [],
   "source": []
  }
 ]
}