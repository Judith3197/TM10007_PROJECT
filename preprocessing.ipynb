{
 "nbformat": 4,
 "nbformat_minor": 2,
 "metadata": {
  "language_info": {
   "name": "python",
   "codemirror_mode": {
    "name": "ipython",
    "version": 3
   },
   "version": "3.7.4-final"
  },
  "orig_nbformat": 2,
  "file_extension": ".py",
  "mimetype": "text/x-python",
  "name": "python",
  "npconvert_exporter": "python",
  "pygments_lexer": "ipython3",
  "version": 3,
  "kernelspec": {
   "name": "python3",
   "display_name": "Python 3"
  }
 },
 "cells": [
  {
   "cell_type": "code",
   "execution_count": 2,
   "metadata": {},
   "outputs": [],
   "source": [
    "# General packages\n",
    "import numpy as np \n",
    "import pandas as pd\n",
    "import matplotlib.pyplot as plt\n",
    "from sklearn import datasets as ds\n",
    "import seaborn\n",
    "\n",
    "# Classifiers\n",
    "from sklearn import model_selection\n",
    "from sklearn import metrics\n",
    "from sklearn import feature_selection \n",
    "from sklearn import preprocessing\n",
    "from sklearn import neighbors\n",
    "from sklearn import svm\n",
    "from sklearn import decomposition\n",
    "from sklearn.impute import KNNImputer\n",
    "\n",
    "# Data preprocessing\n",
    "# Input data is X_train en y_train\n",
    "\n",
    "# 1. Scaling (standard, min max, robust)\n",
    "\n",
    "# Scale the data to be normal\n",
    "scaler = preprocessing.StandardScaler()\n",
    "# scaler = preprocessing.MinMaxScaler()\n",
    "# scaler = preprocessing.RobustScaler()\n",
    "scaler.fit(X_train)\n",
    "X_train_scaled = scaler.transform(X_train)\n",
    "\n",
    "# 2. Feature selection/extraction\n",
    "# Create the Recursive Feature Elimination object and compute a cross-validated score.\n",
    "svc = svm.SVC(kernel=\"linear\")\n",
    "\n",
    "# classifications\n",
    "rfecv = feature_selection.RFECV(\n",
    "    estimator=svc, step=1, \n",
    "    cv=model_selection.StratifiedKFold(4),\n",
    "    scoring='roc_auc')\n",
    "rfecv.fit(X_train_scaled, y_train)\n",
    "\n",
    "# Plot number of features VS. cross-validation scores\n",
    "plt.figure()\n",
    "plt.xlabel(\"Number of features selected\")\n",
    "plt.ylabel(\"Cross validation score (nb of correct classifications)\")\n",
    "plt.plot(range(1, len(rfecv.grid_scores_) + 1), rfecv.grid_scores_)\n",
    "plt.show()\n",
    "print(\"Optimal number of features : %d\" % rfecv.n_features_)\n",
    "\n",
    "# 3. PCA\n",
    "n_selected_features = rfecv.n_features_\n",
    "n_samples = 113  # moeten we nog uit de data halen, is netter\n",
    "n_components == min(n_samples, n_selected_features)\n",
    "pca = decomposition.PCA(n_components)\n",
    "pca.fit(X_train_scaled)\n",
    "X_train_pca = pca.transform(X_train_scaled)\n",
    "\n",
    "seaborn.scatterplot(x=X_train_pca[:, 0], y=X_train_pca[:, 1], hue=y)\n",
    "\n",
    "# 4. Imputation missing data\n",
    "missing_values=[0.0, 1.0]\n",
    "for elem in missing_values:\n",
    "    imputer = KNNImputer(missing_values=elem, n_neighbors=5, weights='uniform')\n",
    "    X_train_imputed = imputer.fit_transform(X_train_pca)"
   ]
  },
  {
   "cell_type": "code",
   "execution_count": null,
   "metadata": {},
   "outputs": [],
   "source": [
    "# Preprocessing test\n",
    "X_test_scaled = scaler.transform(X_test)"
   ]
  },
  {
   "cell_type": "code",
   "execution_count": null,
   "metadata": {},
   "outputs": [],
   "source": [
    "# PCA\n",
    "\n",
    "plt.figure()\n",
    "plt.plot(np.cumsum(pca.explained_variance_ratio_))\n",
    "plt.xlabel('Number of Components')\n",
    "plt.ylabel('Variance (%)') #for each component\n",
    "plt.title('Pulsar Dataset Explained Variance')\n",
    "plt.show()"
   ]
  }
 ]
}