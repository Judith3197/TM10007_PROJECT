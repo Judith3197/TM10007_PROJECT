{
 "nbformat": 4,
 "nbformat_minor": 2,
 "metadata": {
  "language_info": {
   "name": "python",
   "codemirror_mode": {
    "name": "ipython",
    "version": 3
   },
   "version": "3.7.4-final"
  },
  "orig_nbformat": 2,
  "file_extension": ".py",
  "mimetype": "text/x-python",
  "name": "python",
  "npconvert_exporter": "python",
  "pygments_lexer": "ipython3",
  "version": 3,
  "kernelspec": {
   "name": "python3",
   "display_name": "Python 3"
  }
 },
 "cells": [
  {
   "cell_type": "markdown",
   "metadata": {},
   "source": [
    "A SVM model for the dataset "
   ]
  },
  {
   "cell_type": "code",
   "execution_count": 1,
   "metadata": {},
   "outputs": [],
   "source": [
    "# Import all libraries\n",
    "from sklearn import model_selection\n",
    "import numpy as np \n",
    "import pandas as pd\n",
    "import matplotlib.pyplot as plt\n",
    "from sklearn import datasets as ds\n",
    "import seaborn\n",
    "\n",
    "from sklearn.svm import SVC    \n",
    "from sklearn.feature_selection import RFECV\n",
    "from sklearn.model_selection import GridSearchCV, cross_val_score,StratifiedKFold\n",
    "from sklearn import model_selection\n",
    "from sklearn import metrics\n",
    "from sklearn import feature_selection \n",
    "from sklearn import preprocessing\n",
    "from sklearn import neighbors\n",
    "from sklearn import svm\n",
    "from sklearn import decomposition\n",
    "from sklearn.impute import KNNImputer\n",
    "\n",
    "from hn.load_data import load_data"
   ]
  },
  {
   "cell_type": "code",
   "execution_count": 2,
   "metadata": {
    "tags": [
     "outputPrepend"
    ]
   },
   "outputs": [],
   "source": [
    "\n",
    "data = load_data()\n",
    "Y = data['label']\n",
    "del data['label']\n",
    "\n",
    "sss = model_selection.StratifiedShuffleSplit(n_splits=20, test_size=0.2, random_state=None)\n",
    "cv_4fold = model_selection.StratifiedKFold(n_splits=4)\n",
    "\n",
    "count = 0 \n",
    "for train_index, test_index in sss.split(data, Y):\n",
    "    train_scores = []\n",
    "    test_scores = []\n",
    "    count += 1\n",
    "    #print(f'Iteration {count}')\n",
    "    data_array = pd.DataFrame.from_dict(data) #Needed to be able to index this later \n",
    "    split_X_train = data_array.iloc[train_index]\n",
    "    split_y_train = Y[train_index]\n",
    "    split_X_test = data_array.iloc[test_index]\n",
    "    split_y_test = Y[test_index]\n",
    "\n",
    "    # Loop over the folds\n",
    "    for training_index, validation_index in cv_4fold.split(split_X_train, split_y_train):\n",
    "        X_validation = split_X_train.iloc[validation_index]\n",
    "        y_validation = split_y_train[validation_index]\n",
    "        X_train = split_X_train.iloc[training_index]\n",
    "        y_train = split_y_train[training_index]\n",
    ""
   ]
  },
  {
   "cell_type": "code",
   "execution_count": 3,
   "metadata": {},
   "outputs": [
    {
     "output_type": "stream",
     "name": "stdout",
     "text": "Fitting 5 folds for each of 72 candidates, totalling 360 fits\n[Parallel(n_jobs=-1)]: Using backend LokyBackend with 8 concurrent workers.\n[Parallel(n_jobs=-1)]: Done  25 tasks      | elapsed:    3.0s\n{'C': 10, 'gamma': 0.01, 'kernel': 'rbf'}\n0.7175824175824175\n[Parallel(n_jobs=-1)]: Done 360 out of 360 | elapsed:    3.6s finished\n"
    }
   ],
   "source": [
    "# 1. Scaling (standard, min max, robust)\n",
    "from sklearn.model_selection import GridSearchCV, cross_val_score,StratifiedKFold  \n",
    "scaler = preprocessing.StandardScaler()\n",
    "\n",
    "scaler.fit(X_train)\n",
    "X_train_scaled = scaler.transform(X_train)\n",
    "\n",
    "# Apply a grid search to find best of three hyperparameters; kernel, gamma and C. Before feature selection \n",
    "grid_param =[{'kernel': ('linear','rbf'), 'gamma': [1e-04, 1e-03, 1e-02, 0.1, 1, 10],'C': [1e-04, 1e-03, 1e-02, 0.1, 1, 10]}]\n",
    "grid_search=GridSearchCV(SVC(),grid_param,n_jobs=-1,verbose=2)\n",
    "grid_search.fit(X_train_scaled, y_train)\n",
    "\n",
    "best_hyperparameters = grid_search.best_params_  \n",
    "print(best_hyperparameters) \n",
    "C = best_hyperparameters.get('C')\n",
    "gamma = best_hyperparameters.get('gamma')\n",
    "kernel = best_hyperparameters.get('kernel')\n",
    "best_result = grid_search.best_score_  \n",
    "print(best_result) \n",
    "\n",
    "\n",
    "\n",
    "\n",
    ""
   ]
  },
  {
   "cell_type": "code",
   "execution_count": 37,
   "metadata": {},
   "outputs": [
    {
     "output_type": "stream",
     "name": "stdout",
     "text": "['T12' 'T12' 'T12' 'T12' 'T12' 'T12' 'T12' 'T12' 'T12' 'T12' 'T12' 'T12'\n 'T12' 'T12' 'T12' 'T12' 'T12' 'T12' 'T12' 'T12' 'T12' 'T12']\n0.5\n"
    }
   ],
   "source": [
    "model=svm.SVC(kernel=kernel, C=C, gamma=gamma)\n",
    "model.fit(X_train_scaled, y_train)\n",
    "#Calculate all class predictions \n",
    "Model_predictions_test=model.predict(X_validation)\n",
    "print(Model_predictions_test)\n",
    "accuracy=metrics.accuracy_score(y_validation, Model_predictions_test)\n",
    "print(accuracy)\n",
    "\n",
    "\n",
    "\n",
    ""
   ]
  },
  {
   "cell_type": "code",
   "execution_count": 36,
   "metadata": {},
   "outputs": [
    {
     "output_type": "stream",
     "name": "stdout",
     "text": "Index(['tf_Gabor_0.5A1.57kurt'], dtype='object')\n"
    }
   ],
   "source": [
    "svc = svm.SVC(kernel=\"linear\")\n",
    "\n",
    "# classifications\n",
    "rfecv = feature_selection.RFECV(\n",
    "    estimator=svc, step=1, \n",
    "    cv=model_selection.StratifiedKFold(4),\n",
    "    scoring='roc_auc')\n",
    "rfecv.fit(X_train_scaled, y_train)\n",
    "\n",
    "regions = pd.Series(rfecv.support_,index = data.columns[:])\n",
    "selected_features_rfecv = regions[regions==True].index\n",
    "print(selected_features_rfecv)"
   ]
  },
  {
   "cell_type": "code",
   "execution_count": 10,
   "metadata": {},
   "outputs": [
    {
     "output_type": "stream",
     "name": "stdout",
     "text": "Misclassified: 15 / 22 \nMisclassified: 11 / 22 \nMisclassified: 11 / 22 \n"
    }
   ],
   "source": [
    "svmlin = SVC(kernel='linear', gamma='scale')\n",
    "svmrbf = SVC(kernel='rbf', gamma='scale')\n",
    "svmpoly = SVC(kernel='poly', degree=3, gamma='scale')\n",
    "clsfs = [svmlin, svmrbf, svmpoly]\n",
    "for clf in clsfs:\n",
    "    clf.fit(X_train_scaled, y_train)\n",
    "    y_pred = clf.predict(X_validation)\n",
    "    print(f\"Misclassified: {(y_validation != y_pred).sum()} / {X_validation.shape[0]} \")\n",
    "    \n",
    ""
   ]
  },
  {
   "cell_type": "code",
   "execution_count": 15,
   "metadata": {},
   "outputs": [
    {
     "output_type": "stream",
     "name": "stdout",
     "text": "Misclassified: 6 / 22 \nMisclassified: 9 / 22 \nMisclassified: 8 / 22 \nMisclassified: 6 / 22 \nMisclassified: 9 / 22 \nMisclassified: 8 / 22 \nMisclassified: 6 / 22 \nMisclassified: 9 / 22 \nMisclassified: 8 / 22 \nMisclassified: 8 / 22 \nMisclassified: 11 / 22 \nMisclassified: 11 / 22 \nMisclassified: 8 / 22 \nMisclassified: 12 / 22 \nMisclassified: 14 / 22 \nMisclassified: 7 / 22 \nMisclassified: 14 / 22 \nMisclassified: 15 / 22 \nMisclassified: 10 / 22 \nMisclassified: 9 / 22 \nMisclassified: 10 / 22 \nMisclassified: 10 / 22 \nMisclassified: 11 / 22 \nMisclassified: 15 / 22 \nMisclassified: 9 / 22 \nMisclassified: 14 / 22 \nMisclassified: 14 / 22 \n################################################################################\nMisclassified: 14 / 22 \n"
    }
   ],
   "source": [
    "degrees = [1, 3, 5]\n",
    "coef0s = [0.01, 0.5, 1]\n",
    "slacks = [0.01, 0.5, 1]\n",
    "\n",
    "clsfs = list()\n",
    "for degree in degrees:\n",
    "    for coef0 in coef0s:\n",
    "        for slack in slacks:\n",
    "            clsfs.append(SVC(kernel='poly', degree=degree, coef0=coef0, C=slack, gamma='scale'))\n",
    "\n",
    "for clf in clsfs:\n",
    "    clf.fit(X_train_scaled, y_train)\n",
    "    y_pred = clf.predict(X_validation)\n",
    "    print(f\"Misclassified: {(y_validation != y_pred).sum()} / {X_validation.shape[0]} \")\n",
    "\n",
    "print(80*'#')\n",
    "grid_param =[{'kernel': ('linear','rbf'), 'gamma': [1e-04, 1e-03, 1e-02, 0.1, 1, 10],'C': [1e-04, 1e-03, 1e-02, 0.1, 1, 10]}]\n",
    "grid_search=GridSearchCV(SVC(),grid_param,n_jobs=-1,verbose=2)\n",
    "grid_search.fit(X_train_scaled, y_train)\n",
    "\n",
    "best_hyperparameters = grid_search.best_params_  \n",
    "print(best_hyperparameters) \n",
    "C = best_hyperparameters.get('C')\n",
    "gamma = best_hyperparameters.get('gamma')\n",
    "kernel = best_hyperparameters.get('kernel')\n",
    "best_result = grid_search.best_score_  \n",
    "print(best_result) \n",
    "\n",
    "model=svm.SVC(kernel=kernel, C=C, gamma=gamma)\n",
    "model.fit(X_train_scaled, y_train)\n",
    "y_pred = clf.predict(X_validation)\n",
    "print(f\"Misclassified: {(y_validation != y_pred).sum()} / {X_validation.shape[0]} \")\n"
   ]
  },
  {
   "cell_type": "code",
   "execution_count": 13,
   "metadata": {},
   "outputs": [
    {
     "output_type": "stream",
     "name": "stdout",
     "text": "Misclassified rbf normal: 11 / 22 \n"
    },
    {
     "output_type": "error",
     "ename": "NameError",
     "evalue": "name 'rbf_kernel' is not defined",
     "traceback": [
      "\u001b[1;31m---------------------------------------------------------------------------\u001b[0m",
      "\u001b[1;31mNameError\u001b[0m                                 Traceback (most recent call last)",
      "\u001b[1;32m<ipython-input-13-ec1afe0f95ea>\u001b[0m in \u001b[0;36m<module>\u001b[1;34m\u001b[0m\n\u001b[0;32m      6\u001b[0m \u001b[1;33m\u001b[0m\u001b[0m\n\u001b[0;32m      7\u001b[0m \u001b[1;33m\u001b[0m\u001b[0m\n\u001b[1;32m----> 8\u001b[1;33m \u001b[0mclf\u001b[0m \u001b[1;33m=\u001b[0m \u001b[0mSVC\u001b[0m\u001b[1;33m(\u001b[0m\u001b[0mkernel\u001b[0m\u001b[1;33m=\u001b[0m\u001b[0mrbf_kernel\u001b[0m\u001b[1;33m)\u001b[0m\u001b[1;33m\u001b[0m\u001b[1;33m\u001b[0m\u001b[0m\n\u001b[0m\u001b[0;32m      9\u001b[0m \u001b[0mclf\u001b[0m\u001b[1;33m.\u001b[0m\u001b[0mfit\u001b[0m\u001b[1;33m(\u001b[0m\u001b[0mX_train_scaled\u001b[0m\u001b[1;33m,\u001b[0m \u001b[0my_train\u001b[0m\u001b[1;33m)\u001b[0m\u001b[1;33m\u001b[0m\u001b[1;33m\u001b[0m\u001b[0m\n\u001b[0;32m     10\u001b[0m \u001b[0my_pred\u001b[0m \u001b[1;33m=\u001b[0m \u001b[0mclf\u001b[0m\u001b[1;33m.\u001b[0m\u001b[0mpredict\u001b[0m\u001b[1;33m(\u001b[0m\u001b[0mX_validation\u001b[0m\u001b[1;33m)\u001b[0m\u001b[1;33m\u001b[0m\u001b[1;33m\u001b[0m\u001b[0m\n",
      "\u001b[1;31mNameError\u001b[0m: name 'rbf_kernel' is not defined"
     ]
    }
   ],
   "source": [
    "clf = SVC(kernel='rbf', gamma=1)\n",
    "clf.fit(X_train_scaled, y_train)\n",
    "y_pred = clf.predict(X_validation)\n",
    "print(f\"Misclassified rbf normal: {(y_validation != y_pred).sum()} / {X_validation.shape[0]} \")\n",
    "\n",
    "\n",
    "\n",
    "clf = SVC(kernel=rbf_kernel)\n",
    "clf.fit(X_train_scaled, y_train)\n",
    "y_pred = clf.predict(X_validation)\n",
    "print(f\"Misclassified rbf normal: {(y_validation != y_pred).sum()} / {X_validation.shape[0]} \")\n",
    "\n",
    ""
   ]
  },
  {
   "cell_type": "code",
   "execution_count": null,
   "metadata": {},
   "outputs": [],
   "source": []
  }
 ]
}