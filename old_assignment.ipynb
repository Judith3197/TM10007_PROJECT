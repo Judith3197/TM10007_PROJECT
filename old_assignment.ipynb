{
 "nbformat": 4,
 "nbformat_minor": 2,
 "metadata": {
  "language_info": {
   "name": "python",
   "codemirror_mode": {
    "name": "ipython",
    "version": 3
   }
  },
  "orig_nbformat": 2,
  "file_extension": ".py",
  "mimetype": "text/x-python",
  "name": "python",
  "npconvert_exporter": "python",
  "pygments_lexer": "ipython3",
  "version": 3
 },
 "cells": [
  {
   "cell_type": "markdown",
   "metadata": {},
   "source": [
    "# Old assignment steps"
   ]
  },
  {
   "cell_type": "code",
   "execution_count": null,
   "metadata": {},
   "outputs": [],
   "source": [
    "# preprocessing function\n",
    "\n",
    "def data_preprocessing(X_train, y_train):\n",
    "    '''Data preprocessing'''\n",
    "\n",
    "    # 1. Scaling (standard, min max, robust)\n",
    "\n",
    "    # Scale the data to be normal\n",
    "    scaler = preprocessing.StandardScaler()\n",
    "    # scaler = preprocessing.MinMaxScaler()\n",
    "    # scaler = preprocessing.RobustScaler()\n",
    "    scaler.fit(X_train)\n",
    "    X_train_scaled = scaler.transform(X_train)\n",
    "\n",
    "    # 2. Feature selection/extraction\n",
    "    # Create the Recursive Feature Elimination object and compute a cross-validated score.\n",
    "    svc = svm.SVC(kernel=\"linear\")\n",
    "\n",
    "    # classifications\n",
    "    rfecv = feature_selection.RFECV(\n",
    "        estimator=svc, step=1, \n",
    "        cv=model_selection.StratifiedKFold(4),\n",
    "        scoring='roc_auc')\n",
    "    rfecv.fit(X_train_scaled, y_train)\n",
    "\n",
    "    # Plot number of features VS. cross-validation scores\n",
    "    plt.figure()\n",
    "    plt.xlabel(\"Number of features selected\")\n",
    "    plt.ylabel(\"Cross validation score (nb of correct classifications)\")\n",
    "    plt.plot(range(1, len(rfecv.grid_scores_) + 1), rfecv.grid_scores_)\n",
    "    plt.show()\n",
    "    print(\"Optimal number of features : %d\" % rfecv.n_features_)\n",
    "\n",
    "    # 3. PCA\n",
    "    n_selected_features = rfecv.n_features_\n",
    "    n_samples = len(X_train.index)\n",
    "    n_components = min(n_samples, n_selected_features)\n",
    "    pca = decomposition.PCA(n_components)\n",
    "    pca.fit(X_train_scaled)\n",
    "    X_train_pca = pca.transform(X_train_scaled)\n",
    "\n",
    "    # print(X_train_pca)\n",
    "    # X_train_pca.shape\n",
    "\n",
    "    # # 4. Imputation missing data\n",
    "    # missing_values=[0.0, 1.0]\n",
    "    # for elem in missing_values:\n",
    "    #     imputer = KNNImputer(missing_values=elem, n_neighbors=5, weights='uniform')\n",
    "    #     X_train_imputed = imputer.fit_transform(X_train_pca)\n",
    "\n",
    "    # print(X_train_imputed)\n",
    "    # X_train_imputed.shape\n",
    "\n",
    "    return X_train_pca"
   ]
  }
 ]
}