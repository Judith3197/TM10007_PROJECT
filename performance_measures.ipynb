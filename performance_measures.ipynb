{
 "nbformat": 4,
 "nbformat_minor": 2,
 "metadata": {
  "language_info": {
   "name": "python",
   "codemirror_mode": {
    "name": "ipython",
    "version": 3
   },
   "version": "3.7.4-final"
  },
  "orig_nbformat": 2,
  "file_extension": ".py",
  "mimetype": "text/x-python",
  "name": "python",
  "npconvert_exporter": "python",
  "pygments_lexer": "ipython3",
  "version": 3,
  "kernelspec": {
   "name": "python3",
   "display_name": "Python 3"
  }
 },
 "cells": [
  {
   "cell_type": "markdown",
   "metadata": {},
   "source": [
    "This is a file for the performance measures. This file is based on the assumption that a list with scores are given. "
   ]
  },
  {
   "cell_type": "code",
   "execution_count": 1,
   "metadata": {},
   "outputs": [],
   "source": [
    "#Necessary packages\n",
    "import numpy as np \n",
    "from sklearn import metrics\n",
    "\n",
    "\n"
   ]
  },
  {
   "cell_type": "code",
   "execution_count": null,
   "metadata": {},
   "outputs": [],
   "source": [
    "\n",
    "# Here we assume that the clf was already fitted on the training dataset. So, that now we can predict the test dataset. In other words, we have\n",
    "# a y_predict and a y_truth \n",
    "# Some common metrics\n",
    "y_pred=clf.predict(x_test)\n",
    "\n",
    "accuracy=metrics.accuracy_score(y_truth, y_pred)\n",
    "F1=metrics.f1_score(y_truth,y_pred)\n",
    "precision=metrics.precision_score(y_truth,y_pred)\n",
    "recall=metrics.recall_score(y_truth, y_pred)\n",
    "\n",
    "#AUC\n",
    "#   Note2: For the AUC score, you do not want the binary predictions, but\n",
    "#          rather the scores between 0 and 1. Not all classifiers can\n",
    "#          however give such a so called \"posterior\". You can check whether a\n",
    "#          classifier clf can give the scores and otherwise use the labels\n",
    "#          by using the following:\n",
    "\n",
    "if hasattr(clf, 'predict_proba'):\n",
    "# The first column gives the probability for class = 0, so we take\n",
    "# the second which gives the probability class = 1:\n",
    "    y_score = clf.predict_proba(X1)[:, 1]\n",
    "else:\n",
    "    y_score = y_pred\n",
    "auc=metrics.roc_auc_score(Y1, y_score)"
   ]
  },
  {
   "cell_type": "markdown",
   "metadata": {},
   "source": [
    "For a comparison of muliple parameters, it might be useful so see what happens in a graph. See 1.2 Generalization for that. "
   ]
  }
 ]
}