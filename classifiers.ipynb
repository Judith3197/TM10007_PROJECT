{
 "nbformat": 4,
 "nbformat_minor": 2,
 "metadata": {
  "language_info": {
   "name": "python",
   "codemirror_mode": {
    "name": "ipython",
    "version": 3
   }
  },
  "orig_nbformat": 2,
  "file_extension": ".py",
  "mimetype": "text/x-python",
  "name": "python",
  "npconvert_exporter": "python",
  "pygments_lexer": "ipython3",
  "version": 3
 },
 "cells": [
  {
   "cell_type": "markdown",
   "metadata": {},
   "source": [
    "# Classifiers"
   ]
  },
  {
   "cell_type": "code",
   "execution_count": null,
   "metadata": {},
   "outputs": [],
   "source": [
    "# Create some classifiers\n",
    "#svmlin = SVC(kernel='linear', gamma='scale')\n",
    "#svmrbf = SVC(kernel='rbf', gamma='scale')\n",
    "#svmpoly = SVC(kernel='poly', degree=3, gamma='scale')\n",
    "#homemade_random_forest = BaggingClassifier(DecisionTreeClassifier())\n",
    "#voting_ensemble = VotingClassifier(\n",
    "#    estimators=[('KNN', KNeighborsClassifier()), ('tree', DecisionTreeClassifier()), ('rf', RandomForestClassifier())],\n",
    "#    voting='soft')\n",
    "\n",
    "clsfs = [LinearDiscriminantAnalysis(),QuadraticDiscriminantAnalysis(),GaussianNB(), \n",
    "         LogisticRegression(), SGDClassifier(), KNeighborsClassifier()]\n",
    "clsfs_fit = list()\n",
    "\n",
    "# Fit the classifiers\n",
    "auc_list = []\n",
    "metric_list = []\n",
    "for clf in clsfs:\n",
    "    clf.fit(X_train_imputed, y_train)\n",
    "    y_pred = clf.predict(X_train_imputed)\n",
    "    clsfs_fit.append(clf)\n",
    "    # Calculate metrics\n",
    "    if hasattr(clf, 'predict_proba'):\n",
    "    # The first column gives the probability for class = 0, so we take\n",
    "    # the second which gives the probability class = 1:\n",
    "        y_score = clf.predict_proba(X_train_imputed)[:, 1]\n",
    "    else:\n",
    "       y_score = y_pred\n",
    "\n",
    "# The hasattr function checks whether an object, function or package has\n",
    "# a certain attribute. This attribute can be a subfunction, or again an\n",
    "# object or function, but also things like scalars or strings.\n",
    "   \n",
    "    auc=metrics.roc_auc_score(y_train, y_score)\n",
    "    accuracy=metrics.accuracy_score(y_train, y_pred)\n",
    "    F1=metrics.f1_score(y_train, y_pred)\n",
    "    precision=metrics.precision_score(y_train, y_pred)\n",
    "    recall=metrics.recall_score(y_train, y_pred)\n",
    "\n",
    "    auc_list.append(auc)\n",
    "    metric_list.append(type(clf))\n",
    "\n",
    "# print the scores per classifier\n",
    "    print(type(clf))\n",
    "    print('Acc:' +str(accuracy))\n",
    "    print('AUC:' +str(auc))\n",
    "    print('F1:' +str(F1))\n",
    "    print('precision:' +str(precision))\n",
    "    print('recall:' +str(recall))\n",
    "\n",
    "auc_list.sort(reverse=True)\n",
    "print(auc_list)\n",
    "print(metric_list)\n",
    "\n",
    "\n",
    "# Choose the two with the highest accuracy\n",
    "\n",
    "\n"
   ]
  }
 ]
}