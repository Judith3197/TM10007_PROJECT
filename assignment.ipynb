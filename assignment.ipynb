{
  "nbformat": 4,
  "nbformat_minor": 0,
  "metadata": {
    "colab": {
      "name": "assignment.ipynb",
      "provenance": [],
      "collapsed_sections": [],
      "include_colab_link": true
    },
    "kernelspec": {
      "display_name": "Python 3.7.4 64-bit ('base': conda)",
      "language": "python",
      "name": "python37464bitbaseconda3e433ad4382c432eac770014b82f80bd"
    },
    "language_info": {
      "codemirror_mode": {
        "name": "ipython",
        "version": 3
      },
      "file_extension": ".py",
      "mimetype": "text/x-python",
      "name": "python",
      "nbconvert_exporter": "python",
      "pygments_lexer": "ipython3",
      "version": "3.7.4-final"
    }
  },
  "cells": [
    {
      "cell_type": "markdown",
      "metadata": {
        "id": "view-in-github",
        "colab_type": "text"
      },
      "source": [
        "<a href=\"https://colab.research.google.com/github/puckgroen/TM10007_PROJECT/blob/master/assignment.ipynb\" target=\"_parent\"><img src=\"https://colab.research.google.com/assets/colab-badge.svg\" alt=\"Open In Colab\"/></a>"
      ]
    },
    {
      "cell_type": "markdown",
      "metadata": {
        "colab_type": "text",
        "id": "7SXpaKwwGe5x"
      },
      "source": [
        "# TM10007 Assignment template\n",
        "The aim of this study is to predict the T-stage (high/low) in patients with H&N cancer based on features, extracted from CT. A good performance on this dataset would be above 70% mean accuracy."
      ]
    },
    {
      "cell_type": "code",
      "metadata": {
        "colab_type": "code",
        "id": "CiDn2Sk-VWqE",
        "colab": {
          "base_uri": "https://localhost:8080/",
          "height": 34
        },
        "outputId": "2407723d-c6dc-45b7-97d5-d9b91f53164e"
      },
      "source": [
        "# Run this to use from colab environment\n",
        "!pip install -q --upgrade git+https://github.com/karinvangarderen/tm10007_project.git"
      ],
      "execution_count": 1,
      "outputs": []
    },
    {
      "cell_type": "code",
      "execution_count": 1,
      "metadata": {},
      "outputs": [],
      "source": [
        "# Import packages\n",
        "\n",
        "import numpy as np \n",
        "import pandas as pd\n",
        "import matplotlib.pyplot as plt\n",
        "import sklearn\n",
        "import seaborn\n",
        "\n",
        "from hn.load_data import load_data\n",
        "\n",
        "from sklearn import model_selection, metrics, feature_selection, preprocessing, neighbors, decomposition, svm\n",
        "from sklearn.impute import KNNImputer\n",
        "from sklearn.model_selection import train_test_split\n",
        "from sklearn.naive_bayes import GaussianNB\n",
        "from sklearn.discriminant_analysis import LinearDiscriminantAnalysis, QuadraticDiscriminantAnalysis\n",
        "from sklearn.linear_model import LogisticRegression, SGDClassifier\n",
        "from sklearn.tree import DecisionTreeClassifier\n",
        "from sklearn.neighbors import KNeighborsClassifier\n",
        "from sklearn.ensemble import RandomForestClassifier, BaggingClassifier, VotingClassifier\n",
        "from sklearn.svm import SVC\n",
        "from sklearn.decomposition import PCA, KernelPCA\n",
        "from sklearn.kernel_approximation import RBFSampler"
      ]
    },
    {
      "cell_type": "code",
      "execution_count": 2,
      "metadata": {},
      "outputs": [],
      "source": [
        "# Preprocessing function\n",
        "\n",
        "def data_preprocessing(X_train, y_train, X_validation, y_validation):\n",
        "    '''Data preprocessing'''\n",
        "\n",
        "    # 1. Scaling \n",
        "    scaler = preprocessing.StandardScaler()\n",
        "    scaler.fit(X_train)\n",
        "    X_train_scaled = scaler.transform(X_train)\n",
        "    X_validation_scaled = scaler.transform(X_validation)\n",
        "\n",
        "    # 2. Feature selection/extraction\n",
        "    # Using the Cumulative Summation of the Explained Variance, we concluded that to  \n",
        "    # retain 95% of the variance we need to use 30 components.\n",
        "    pca = decomposition.PCA(n_components=30)\n",
        "    pca.fit(X_train_scaled)\n",
        "    X_train_pca = pca.transform(X_train_scaled)\n",
        "    X_validation_pca = pca.transform(X_validation_scaled)\n",
        "\n",
        "    return X_train_pca, X_validation_pca"
      ]
    },
    {
      "cell_type": "code",
      "execution_count": 3,
      "metadata": {},
      "outputs": [
        {
          "output_type": "stream",
          "name": "stdout",
          "text": "The number of samples: 113\nThe number of features: 159\n"
        }
      ],
      "source": [
        "# Data loading and preprocessing\n",
        "\n",
        "data = load_data()\n",
        "print(f'The number of samples: {len(data.index)}')\n",
        "print(f'The number of features: {len(data.columns)-1}')\n",
        "y_labels = data['label']\n",
        "del data['label']\n",
        "\n",
        "y = sklearn.preprocessing.label_binarize(y_labels, ['T12', 'T34']) # 0 now stands for T12 and 1 for T34\n",
        "y = [i[0] for i in y]\n",
        "y = np.array(y)\n",
        "\n",
        "cv_4fold = model_selection.StratifiedKFold(n_splits=4, shuffle=True)\n",
        "split_X_train, split_X_test, split_y_train, split_y_test = train_test_split(data, y,\n",
        "                                                    stratify=y, \n",
        "                                                    test_size=0.2)\n",
        "\n",
        "# Loop over the folds\n",
        "k_list = list(range(1, 40, 2))\n",
        "all_train = []\n",
        "all_test = []\n",
        "for _ in range(0,20):\n",
        "    for training_index, validation_index in cv_4fold.split(split_X_train, split_y_train):\n",
        "        train_scores = []\n",
        "        test_scores = []\n",
        "        X_validation = split_X_train.iloc[validation_index]\n",
        "        y_validation = split_y_train[validation_index]\n",
        "        X_train = split_X_train.iloc[training_index]\n",
        "        y_train = split_y_train[training_index]\n",
        "\n",
        "        # Preprocessing \n",
        "        X_train_pca, X_validation_pca = data_preprocessing(X_train, y_train, X_validation, y_validation)"
      ]
    }
  ]
}