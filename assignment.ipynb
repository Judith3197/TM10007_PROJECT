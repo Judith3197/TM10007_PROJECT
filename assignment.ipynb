{
  "nbformat": 4,
  "nbformat_minor": 0,
  "metadata": {
    "colab": {
      "name": "assignment.ipynb",
      "provenance": [],
      "collapsed_sections": [],
      "include_colab_link": true
    },
    "kernelspec": {
      "display_name": "Python 3",
      "language": "python",
      "name": "python3"
    },
    "language_info": {
      "codemirror_mode": {
        "name": "ipython",
        "version": 3
      },
      "file_extension": ".py",
      "mimetype": "text/x-python",
      "name": "python",
      "nbconvert_exporter": "python",
      "pygments_lexer": "ipython3",
      "version": "3.7.4"
    }
  },
  "cells": [
    {
      "cell_type": "markdown",
      "metadata": {
        "id": "view-in-github",
        "colab_type": "text"
      },
      "source": [
        "<a href=\"https://colab.research.google.com/github/puckgroen/TM10007_PROJECT/blob/master/assignment.ipynb\" target=\"_parent\"><img src=\"https://colab.research.google.com/assets/colab-badge.svg\" alt=\"Open In Colab\"/></a>"
      ]
    },
    {
      "cell_type": "markdown",
      "metadata": {
        "colab_type": "text",
        "id": "7SXpaKwwGe5x"
      },
      "source": [
        "# TM10007 Assignment template"
      ]
    },
    {
      "cell_type": "code",
      "metadata": {
        "colab_type": "code",
        "id": "CiDn2Sk-VWqE",
        "colab": {
          "base_uri": "https://localhost:8080/",
          "height": 34
        },
        "outputId": "2407723d-c6dc-45b7-97d5-d9b91f53164e"
      },
      "source": [
        "# Run this to use from colab environment\n",
        "!pip install -q --upgrade git+https://github.com/karinvangarderen/tm10007_project.git"
      ],
      "execution_count": 1,
      "outputs": [
        {
          "output_type": "stream",
          "text": [
            "  Building wheel for brats (setup.py) ... \u001b[?25l\u001b[?25hdone\n"
          ],
          "name": "stdout"
        }
      ]
    },
    {
      "cell_type": "code",
      "execution_count": null,
      "metadata": {},
      "outputs": [],
      "source": [
        "# Import packages\n",
        "\n",
        "# General packages\n",
        "import numpy as np \n",
        "import pandas as pd\n",
        "import matplotlib.pyplot as plt\n",
        "from sklearn import datasets as ds\n",
        "import seaborn\n",
        "\n",
        "# Classifiers\n",
        "from sklearn import model_selection\n",
        "from sklearn import metrics\n",
        "from sklearn import feature_selection \n",
        "from sklearn import preprocessing\n",
        "from sklearn import neighbors\n",
        "from sklearn import svm\n",
        "from sklearn import decomposition\n",
        "from sklearn.impute import KNNImputer"
      ]
    },
    {
      "cell_type": "code",
      "metadata": {
        "id": "55HhaJQKYQTJ",
        "colab_type": "code",
        "colab": {}
      },
      "source": [
        "# Data splitting\n",
        "\n",
        "from hn.load_data import load_data\n",
        "data = load_data()\n",
        "print(f'The number of samples: {len(data.index)}')\n",
        "print(f'The number of features: {len(data.columns)}')\n",
        "Y = data['label']\n",
        "del data['label']\n",
        "\n",
        "sss = model_selection.StratifiedShuffleSplit(n_splits=20, test_size=0.2, random_state=0)\n",
        "cv_4fold = model_selection.StratifiedKFold(n_splits=4)\n",
        "\n",
        "count = 0 \n",
        "for train_index, test_index in sss.split(data, Y):\n",
        "    train_scores = []\n",
        "    test_scores = []\n",
        "    count += 1\n",
        "    print(f'Iteration {count}')\n",
        "    data_array = pd.DataFrame.from_dict(data) #Needed to be able to index this later \n",
        "    split_X_train = data_array.iloc[train_index]\n",
        "    split_y_train = Y[train_index]\n",
        "    split_X_test = data_array.iloc[test_index]\n",
        "    split_y_test = Y[test_index]\n",
        "    print(f'Training dataset size {len(split_X_train)}')\n",
        "    print(f'Test dataset size {len(split_X_test)}')\n",
        "\n",
        "    # Loop over the folds\n",
        "    for training_index, validation_index in cv_4fold.split(split_X_train, split_y_train):\n",
        "        X_validation = split_X_train.iloc[validation_index]\n",
        "        y_validation = split_y_train[validation_index]\n",
        "        X_train = split_X_train.iloc[training_index]\n",
        "        y_train = split_y_train[training_index]\n",
        "        print(f'Validation size in current fold = {len(X_validation)}')"
      ],
      "execution_count": 0,
      "outputs": []
    },
    {
      "cell_type": "markdown",
      "metadata": {
        "id": "_2iAFjW_WR4d",
        "colab_type": "text"
      },
      "source": [
        "The data has 159 features and 113 samples/subjects. The labels are given as either T12 (low) or T34 (high). \n",
        "\n",
        "The aim of this study is to predict the T-stage (high/low) in patients with H&N cancer based on features, extracted from CT. A good performance on this dataset would be above 70% mean accuracy."
      ]
    },
    {
      "cell_type": "markdown",
      "metadata": {},
      "source": [
        "Train data preprocessing"
      ]
    },
    {
      "cell_type": "code",
      "execution_count": null,
      "metadata": {},
      "outputs": [],
      "source": [
        "# 1. Scaling (standard, min max, robust)\n",
        "\n",
        "# Scale the data to be normal\n",
        "scaler = preprocessing.StandardScaler()\n",
        "# scaler = preprocessing.MinMaxScaler()\n",
        "# scaler = preprocessing.RobustScaler()\n",
        "scaler.fit(X_train)\n",
        "X_train_scaled = scaler.transform(X_train)\n"
      ]
    },
    {
      "cell_type": "code",
      "execution_count": null,
      "metadata": {},
      "outputs": [],
      "source": [
        "# 2. Feature selection/extraction\n",
        "# Create the Recursive Feature Elimination object and compute a cross-validated score.\n",
        "svc = svm.SVC(kernel=\"linear\")\n",
        "\n",
        "# classifications\n",
        "rfecv = feature_selection.RFECV(\n",
        "    estimator=svc, step=1, \n",
        "    cv=model_selection.StratifiedKFold(4),\n",
        "    scoring='roc_auc')\n",
        "rfecv.fit(X_train_scaled, y_train)\n",
        "\n",
        "# Plot number of features VS. cross-validation scores\n",
        "plt.figure()\n",
        "plt.xlabel(\"Number of features selected\")\n",
        "plt.ylabel(\"Cross validation score (nb of correct classifications)\")\n",
        "plt.plot(range(1, len(rfecv.grid_scores_) + 1), rfecv.grid_scores_)\n",
        "plt.show()\n",
        "print(\"Optimal number of features : %d\" % rfecv.n_features_)"
      ]
    },
    {
      "cell_type": "code",
      "execution_count": null,
      "metadata": {},
      "outputs": [],
      "source": [
        "# 3. PCA\n",
        "n_selected_features = rfecv.n_features_\n",
        "n_samples = 113  # moeten we nog uit de data halen, is netter\n",
        "n_components == min(n_samples, n_selected_features)\n",
        "pca = decomposition.PCA(n_components)\n",
        "pca.fit(X_train_scaled)\n",
        "X_train_pca = pca.transform(X_train_scaled)\n",
        "\n",
        "seaborn.scatterplot(x=X_train_pca[:, 0], y=X_train_pca[:, 1], hue=y)"
      ]
    },
    {
      "cell_type": "code",
      "execution_count": null,
      "metadata": {},
      "outputs": [],
      "source": [
        "# 4. Imputation missing data\n",
        "missing_values=[0.0, 1.0]\n",
        "for elem in missing_values:\n",
        "    imputer = KNNImputer(missing_values=elem, n_neighbors=5, weights='uniform')\n",
        "    X_train_imputed = imputer.fit_transform(X_train_pca)"
      ]
    }
  ]
}